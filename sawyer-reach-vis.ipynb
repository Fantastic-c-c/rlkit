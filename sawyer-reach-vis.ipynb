{
 "cells": [
  {
   "cell_type": "code",
   "execution_count": null,
   "metadata": {},
   "outputs": [],
   "source": [
    "import numpy as np\n",
    "import matplotlib\n",
    "import matplotlib.pyplot as plt\n",
    "%matplotlib inline\n",
    "import csv\n",
    "import pickle\n",
    "import os\n",
    "import colour"
   ]
  },
  {
   "cell_type": "code",
   "execution_count": null,
   "metadata": {},
   "outputs": [],
   "source": [
    "epoch = 38\n",
    "#expdir = 'output/sawyer-reach-sim-2d/2019_05_23_11_51_43/eval_trajectories' # single goal, works!\n",
    "#expdir = 'output/sawyer-reach-sim-2d/2019_05_23_12_39_11/eval_trajectories' # 5 training goals\n",
    "#expdir = 'output/sawyer-reach-sim-2d/2019_05_23_13_06_37/eval_trajectories' # 5 training goals, reward scale X10\n",
    "expdir = 'output/sawyer-reach-sim-2d/2019_05_29_14_25_52/eval_trajectories' # new branch, 5 training goals\n",
    "def load_pkl(t):\n",
    "    with open(os.path.join(expdir, 'task{}-epoch{}-run0.pkl'.format(t, epoch)), 'rb') as f:\n",
    "        data = pickle.load(f)\n",
    "    return data"
   ]
  },
  {
   "cell_type": "markdown",
   "metadata": {},
   "source": [
    "#### sample rollouts"
   ]
  },
  {
   "cell_type": "code",
   "execution_count": null,
   "metadata": {
    "scrolled": false
   },
   "outputs": [],
   "source": [
    "tasks = [0, 1, 2, 3, 4, 5] # If only 1 task, set to [0]\n",
    "\n",
    "fig, axes = plt.subplots(1, 1, figsize=(12, 20))\n",
    "#axes.set_xlim([-1.25, 1.25])\n",
    "#axes.set_ylim([-1.25, 1.25])\n",
    "colors = ['red', 'blue', 'green', 'cyan', 'magenta']\n",
    "for t,c in zip(tasks, colors):\n",
    "    all_paths = load_pkl(t)\n",
    "    alphas = [0.2, 0.5, 0.9]\n",
    "    for p,a in zip(all_paths, alphas):\n",
    "        states = p['observations'][1:][:,:2]\n",
    "        acts = p['actions']\n",
    "        rewards = p['rewards']\n",
    "        axes.plot(states[:, 0], states[:, 1], '-', color=c, alpha=a)\n",
    "        axes.plot(states[-1, 0], states[-1, 1], '-x', markersize=10, color=c)\n",
    "        axes.set(aspect='equal')\n",
    "    g = all_paths[0]['goal']\n",
    "    print('goal', g)\n",
    "    axes.plot(g[0], g[1], '*', markersize=10, color=c)\n",
    "    #axes.plot(0, 0, 'o', markersize=10, color='black')\n"
   ]
  }
 ],
 "metadata": {
  "kernelspec": {
   "display_name": "Python 3",
   "language": "python",
   "name": "python3"
  },
  "language_info": {
   "codemirror_mode": {
    "name": "ipython",
    "version": 3
   },
   "file_extension": ".py",
   "mimetype": "text/x-python",
   "name": "python",
   "nbconvert_exporter": "python",
   "pygments_lexer": "ipython3",
   "version": "3.5.2"
  }
 },
 "nbformat": 4,
 "nbformat_minor": 2
}
